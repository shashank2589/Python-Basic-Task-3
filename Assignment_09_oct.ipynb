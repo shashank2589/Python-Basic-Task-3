{
 "cells": [
  {
   "cell_type": "raw",
   "id": "811396a5",
   "metadata": {},
   "source": [
    "Q1. Find the largest number from the given list, use for loop.\n",
    "numbers = [12, 75, 150, 180, 145, 525, 50]"
   ]
  },
  {
   "cell_type": "code",
   "execution_count": 1,
   "id": "c269a2cd",
   "metadata": {},
   "outputs": [
    {
     "name": "stdout",
     "output_type": "stream",
     "text": [
      "The largest number from the given list is 525\n"
     ]
    }
   ],
   "source": [
    "numbers = [12, 75, 150, 180, 145, 525, 50]\n",
    "\n",
    "N = numbers[0]\n",
    "\n",
    "for num in numbers:\n",
    "    if num > N:\n",
    "        N = num\n",
    "print(f\"The largest number from the given list is {N}\")"
   ]
  },
  {
   "cell_type": "markdown",
   "id": "804920a9",
   "metadata": {},
   "source": [
    "___________________"
   ]
  },
  {
   "cell_type": "raw",
   "id": "668d6f5b",
   "metadata": {},
   "source": [
    "Q2. Print all the even number between (1, 12)."
   ]
  },
  {
   "cell_type": "code",
   "execution_count": 12,
   "id": "75a7aa7d",
   "metadata": {},
   "outputs": [
    {
     "name": "stdout",
     "output_type": "stream",
     "text": [
      "2\n",
      "4\n",
      "6\n",
      "8\n",
      "10\n"
     ]
    }
   ],
   "source": [
    "for i in range(1, 12):\n",
    "    if i%2 == 0:\n",
    "        print(i)"
   ]
  },
  {
   "cell_type": "markdown",
   "id": "147fa42d",
   "metadata": {},
   "source": [
    "_______________"
   ]
  },
  {
   "cell_type": "raw",
   "id": "b7dbd27e",
   "metadata": {},
   "source": [
    "Q3. Calculate the sum of all numbers from 1 to a given number\n",
    "\n",
    "Expected Output:\n",
    "\n",
    "Enter number 10\n",
    "\n",
    "Sum is:  55\n"
   ]
  },
  {
   "cell_type": "code",
   "execution_count": 14,
   "id": "fbb033b1",
   "metadata": {},
   "outputs": [
    {
     "name": "stdout",
     "output_type": "stream",
     "text": [
      "Enter number : 10\n",
      "Sum is : 55\n"
     ]
    }
   ],
   "source": [
    "n = int(input(\"Enter number : \"))\n",
    "\n",
    "for i in range (1, n):\n",
    "    n = n + i\n",
    "print(f\"Sum is : {n}\")"
   ]
  },
  {
   "cell_type": "markdown",
   "id": "81a340e5",
   "metadata": {},
   "source": [
    "____________"
   ]
  },
  {
   "cell_type": "raw",
   "id": "b34d7590",
   "metadata": {},
   "source": [
    "Q4. Write a program to display only those numbers from a list that satisfy the following conditions\n",
    "\n",
    "The number must be divisible by five\n",
    "If the number is greater than 150, then skip it and move to the next number\n",
    "If the number is greater than 500, then stop the loop\n",
    "\n",
    "Given:\n",
    "\n",
    "numbers = [12, 75, 150, 180, 145, 120, 525, 50]\n"
   ]
  },
  {
   "cell_type": "code",
   "execution_count": 6,
   "id": "a348881a",
   "metadata": {},
   "outputs": [
    {
     "name": "stdout",
     "output_type": "stream",
     "text": [
      "The number 75 is divisible by 5 and its less than 150 \n",
      "The number 145 is divisible by 5 and its less than 150 \n",
      "The number 120 is divisible by 5 and its less than 150 \n"
     ]
    }
   ],
   "source": [
    "numbers = [12, 75, 150, 180, 145, 120, 525, 50]\n",
    "\n",
    "for i in numbers:\n",
    "    if i%5 == 0 and i < 150:\n",
    "        print(f\"The number {i} is divisible by 5 and its less than 150 \")\n",
    "    elif i > 500:\n",
    "        break       "
   ]
  },
  {
   "cell_type": "markdown",
   "id": "a5f8ab75",
   "metadata": {},
   "source": [
    "___________"
   ]
  },
  {
   "cell_type": "raw",
   "id": "f160c2e4",
   "metadata": {},
   "source": [
    "Q5. Print the given list in reverse order.\n",
    "list1 = [10, 20, 30, 40, 50]"
   ]
  },
  {
   "cell_type": "code",
   "execution_count": 10,
   "id": "01acf934",
   "metadata": {},
   "outputs": [
    {
     "name": "stdout",
     "output_type": "stream",
     "text": [
      "[50, 40, 30, 20, 10]\n"
     ]
    }
   ],
   "source": [
    "list1 = [10, 20, 30, 40, 50]\n",
    "\n",
    "list1 = list1[::-1]\n",
    "print(list1)"
   ]
  },
  {
   "cell_type": "markdown",
   "id": "0b69a1a1",
   "metadata": {},
   "source": [
    "________"
   ]
  }
 ],
 "metadata": {
  "kernelspec": {
   "display_name": "Python 3 (ipykernel)",
   "language": "python",
   "name": "python3"
  },
  "language_info": {
   "codemirror_mode": {
    "name": "ipython",
    "version": 3
   },
   "file_extension": ".py",
   "mimetype": "text/x-python",
   "name": "python",
   "nbconvert_exporter": "python",
   "pygments_lexer": "ipython3",
   "version": "3.9.12"
  }
 },
 "nbformat": 4,
 "nbformat_minor": 5
}
